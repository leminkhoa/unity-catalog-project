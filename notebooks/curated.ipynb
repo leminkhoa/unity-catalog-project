{
 "cells": [
  {
   "cell_type": "markdown",
   "id": "812d0e02-e26b-48b9-a28e-46bd2349ee0f",
   "metadata": {},
   "source": [
    "## Init"
   ]
  },
  {
   "cell_type": "code",
   "execution_count": 1,
   "id": "e9a380c7-0af0-4f77-ac0c-c960cb01a92e",
   "metadata": {},
   "outputs": [],
   "source": [
    "import findspark\n",
    "import os\n",
    "import sys\n",
    "\n",
    "from dotenv import load_dotenv\n",
    "from IPython.core.magic import register_cell_magic\n",
    "\n",
    "# Find Spark package\n",
    "findspark.init()\n",
    "\n",
    "# Get environment variable from .env file\n",
    "env = load_dotenv()\n",
    "\n",
    "# Add project working directory to PATH\n",
    "sys.path.append(os.getenv(\"PROJECT_FOLDER\"))"
   ]
  },
  {
   "cell_type": "code",
   "execution_count": 2,
   "id": "672839a3-8060-4aec-af57-3e67933883d1",
   "metadata": {},
   "outputs": [],
   "source": [
    "from src.transform.etl import *\n",
    "from src.transform.common import *"
   ]
  },
  {
   "cell_type": "code",
   "execution_count": 3,
   "id": "77e233cb-2860-4863-bc51-2135fbe81dc5",
   "metadata": {},
   "outputs": [
    {
     "name": "stderr",
     "output_type": "stream",
     "text": [
      "24/12/16 18:48:52 WARN Utils: Your hostname, khoa-le-MS-7B19 resolves to a loopback address: 127.0.1.1; using 192.168.1.7 instead (on interface eno1)\n",
      "24/12/16 18:48:52 WARN Utils: Set SPARK_LOCAL_IP if you need to bind to another address\n",
      "Ivy Default Cache set to: /home/khoa-le/.ivy2/cache\n",
      "The jars for the packages stored in: /home/khoa-le/.ivy2/jars\n",
      "io.delta#delta-spark_2.12 added as a dependency\n",
      "io.unitycatalog#unitycatalog-spark_2.12 added as a dependency\n",
      ":: resolving dependencies :: org.apache.spark#spark-submit-parent-7daeecb5-7172-4207-bf5f-e662c1e80e41;1.0\n",
      "\tconfs: [default]\n"
     ]
    },
    {
     "name": "stdout",
     "output_type": "stream",
     "text": [
      ":: loading settings :: url = jar:file:/home/khoa-le/data/app/spark-3.5.3-bin-hadoop3/jars/ivy-2.5.1.jar!/org/apache/ivy/core/settings/ivysettings.xml\n"
     ]
    },
    {
     "name": "stderr",
     "output_type": "stream",
     "text": [
      "\tfound io.delta#delta-spark_2.12;3.2.1 in central\n",
      "\tfound io.delta#delta-storage;3.2.1 in central\n",
      "\tfound org.antlr#antlr4-runtime;4.9.3 in central\n",
      "\tfound io.unitycatalog#unitycatalog-spark_2.12;0.2.0 in central\n",
      "\tfound io.unitycatalog#unitycatalog-client;0.2.0 in central\n",
      "\tfound org.slf4j#slf4j-api;2.0.13 in central\n",
      "\tfound org.apache.logging.log4j#log4j-slf4j2-impl;2.23.1 in central\n",
      "\tfound org.apache.logging.log4j#log4j-api;2.23.1 in central\n",
      "\tfound org.apache.logging.log4j#log4j-core;2.23.1 in central\n",
      "\tfound com.fasterxml.jackson.datatype#jackson-datatype-jsr310;2.17.0 in central\n",
      "\tfound org.openapitools#jackson-databind-nullable;0.2.6 in central\n",
      "\tfound com.google.code.findbugs#jsr305;3.0.2 in central\n",
      "\tfound com.fasterxml.jackson.core#jackson-databind;2.15.0 in central\n",
      "\tfound com.fasterxml.jackson.core#jackson-annotations;2.15.0 in central\n",
      "\tfound com.fasterxml.jackson.core#jackson-core;2.15.0 in central\n",
      "\tfound com.fasterxml.jackson.module#jackson-module-scala_2.12;2.15.0 in central\n",
      "\tfound com.thoughtworks.paranamer#paranamer;2.8 in central\n",
      "\tfound com.fasterxml.jackson.dataformat#jackson-dataformat-xml;2.15.0 in central\n",
      "\tfound org.codehaus.woodstox#stax2-api;4.2.1 in central\n",
      "\tfound com.fasterxml.woodstox#woodstox-core;6.5.1 in central\n",
      "\tfound org.antlr#antlr4;4.9.3 in central\n",
      "\tfound org.antlr#antlr-runtime;3.5.2 in central\n",
      "\tfound org.antlr#ST4;4.3.1 in central\n",
      "\tfound org.abego.treelayout#org.abego.treelayout.core;1.0.3 in central\n",
      "\tfound org.glassfish#javax.json;1.0.4 in central\n",
      "\tfound com.ibm.icu#icu4j;69.1 in central\n",
      "\tfound org.apache.hadoop#hadoop-client-runtime;3.4.0 in central\n",
      "\tfound org.apache.hadoop#hadoop-client-api;3.4.0 in central\n",
      "\tfound org.xerial.snappy#snappy-java;1.1.10.4 in central\n",
      "\tfound commons-logging#commons-logging;1.2 in central\n",
      ":: resolution report :: resolve 543ms :: artifacts dl 13ms\n",
      "\t:: modules in use:\n",
      "\tcom.fasterxml.jackson.core#jackson-annotations;2.15.0 from central in [default]\n",
      "\tcom.fasterxml.jackson.core#jackson-core;2.15.0 from central in [default]\n",
      "\tcom.fasterxml.jackson.core#jackson-databind;2.15.0 from central in [default]\n",
      "\tcom.fasterxml.jackson.dataformat#jackson-dataformat-xml;2.15.0 from central in [default]\n",
      "\tcom.fasterxml.jackson.datatype#jackson-datatype-jsr310;2.17.0 from central in [default]\n",
      "\tcom.fasterxml.jackson.module#jackson-module-scala_2.12;2.15.0 from central in [default]\n",
      "\tcom.fasterxml.woodstox#woodstox-core;6.5.1 from central in [default]\n",
      "\tcom.google.code.findbugs#jsr305;3.0.2 from central in [default]\n",
      "\tcom.ibm.icu#icu4j;69.1 from central in [default]\n",
      "\tcom.thoughtworks.paranamer#paranamer;2.8 from central in [default]\n",
      "\tcommons-logging#commons-logging;1.2 from central in [default]\n",
      "\tio.delta#delta-spark_2.12;3.2.1 from central in [default]\n",
      "\tio.delta#delta-storage;3.2.1 from central in [default]\n",
      "\tio.unitycatalog#unitycatalog-client;0.2.0 from central in [default]\n",
      "\tio.unitycatalog#unitycatalog-spark_2.12;0.2.0 from central in [default]\n",
      "\torg.abego.treelayout#org.abego.treelayout.core;1.0.3 from central in [default]\n",
      "\torg.antlr#ST4;4.3.1 from central in [default]\n",
      "\torg.antlr#antlr-runtime;3.5.2 from central in [default]\n",
      "\torg.antlr#antlr4;4.9.3 from central in [default]\n",
      "\torg.antlr#antlr4-runtime;4.9.3 from central in [default]\n",
      "\torg.apache.hadoop#hadoop-client-api;3.4.0 from central in [default]\n",
      "\torg.apache.hadoop#hadoop-client-runtime;3.4.0 from central in [default]\n",
      "\torg.apache.logging.log4j#log4j-api;2.23.1 from central in [default]\n",
      "\torg.apache.logging.log4j#log4j-core;2.23.1 from central in [default]\n",
      "\torg.apache.logging.log4j#log4j-slf4j2-impl;2.23.1 from central in [default]\n",
      "\torg.codehaus.woodstox#stax2-api;4.2.1 from central in [default]\n",
      "\torg.glassfish#javax.json;1.0.4 from central in [default]\n",
      "\torg.openapitools#jackson-databind-nullable;0.2.6 from central in [default]\n",
      "\torg.slf4j#slf4j-api;2.0.13 from central in [default]\n",
      "\torg.xerial.snappy#snappy-java;1.1.10.4 from central in [default]\n",
      "\t:: evicted modules:\n",
      "\torg.slf4j#slf4j-api;2.0.9 by [org.slf4j#slf4j-api;2.0.13] in [default]\n",
      "\tcom.fasterxml.jackson.core#jackson-annotations;2.17.0 by [com.fasterxml.jackson.core#jackson-annotations;2.15.0] in [default]\n",
      "\tcom.fasterxml.jackson.core#jackson-core;2.17.0 by [com.fasterxml.jackson.core#jackson-core;2.15.0] in [default]\n",
      "\tcom.fasterxml.jackson.core#jackson-databind;2.17.0 by [com.fasterxml.jackson.core#jackson-databind;2.15.0] in [default]\n",
      "\tcom.fasterxml.jackson.core#jackson-databind;2.14.0-rc2 by [com.fasterxml.jackson.core#jackson-databind;2.15.0] in [default]\n",
      "\torg.slf4j#slf4j-api;1.7.36 by [org.slf4j#slf4j-api;2.0.13] in [default]\n",
      "\t---------------------------------------------------------------------\n",
      "\t|                  |            modules            ||   artifacts   |\n",
      "\t|       conf       | number| search|dwnlded|evicted|| number|dwnlded|\n",
      "\t---------------------------------------------------------------------\n",
      "\t|      default     |   36  |   0   |   0   |   6   ||   30  |   0   |\n",
      "\t---------------------------------------------------------------------\n",
      ":: retrieving :: org.apache.spark#spark-submit-parent-7daeecb5-7172-4207-bf5f-e662c1e80e41\n",
      "\tconfs: [default]\n",
      "\t0 artifacts copied, 30 already retrieved (0kB/8ms)\n",
      "24/12/16 18:48:53 WARN NativeCodeLoader: Unable to load native-hadoop library for your platform... using builtin-java classes where applicable\n",
      "Setting default log level to \"WARN\".\n",
      "To adjust logging level use sc.setLogLevel(newLevel). For SparkR, use setLogLevel(newLevel).\n"
     ]
    }
   ],
   "source": [
    "from pyspark.sql import SparkSession\n",
    "from pyspark.sql.types import StructType, StructField, StringType, ArrayType, IntegerType\n",
    "\n",
    "# Initialize Spark session with configurations\n",
    "spark = SparkSession.builder \\\n",
    "    .appName(\"Delta-Unity-Catalog\") \\\n",
    "    .master(\"local[*]\") \\\n",
    "    .config(\"spark.jars.packages\", \n",
    "            \"io.delta:delta-spark_2.12:3.2.1,io.unitycatalog:unitycatalog-spark_2.12:0.2.0\") \\\n",
    "    .config(\"spark.sql.extensions\", \"io.delta.sql.DeltaSparkSessionExtension\") \\\n",
    "    .config(\"spark.sql.catalog.spark_catalog\", \"io.unitycatalog.spark.UCSingleCatalog\") \\\n",
    "    .config(\"spark.sql.catalog.unity\", \"io.unitycatalog.spark.UCSingleCatalog\") \\\n",
    "    .config(\"spark.sql.catalog.unity.uri\", \"http://localhost:8080\") \\\n",
    "    .config(\"spark.sql.catalog.unity.token\", \"\") \\\n",
    "    .config(\"spark.sql.defaultCatalog\", \"unity\") \\\n",
    "    .getOrCreate()\n"
   ]
  },
  {
   "cell_type": "code",
   "execution_count": 4,
   "id": "b83e82df-550b-4ac1-ad7a-8d21387951ce",
   "metadata": {},
   "outputs": [],
   "source": [
    "# Create a global variable for the Spark session\n",
    "@register_cell_magic\n",
    "def sql(line, cell=None):\n",
    "    query = cell or line\n",
    "    df = spark.sql(query)\n",
    "    return df.show()"
   ]
  },
  {
   "cell_type": "code",
   "execution_count": 5,
   "id": "789c7c26-f911-4cfd-a0f1-d83f0c5e4392",
   "metadata": {},
   "outputs": [],
   "source": [
    "# Declare variables\n",
    "catalog = os.getenv(\"CATALOG\")\n",
    "schema = os.getenv(\"CURATED_SCHEMA\")"
   ]
  },
  {
   "cell_type": "markdown",
   "id": "4fff968c-8822-49d6-b11f-1608dcf98dfe",
   "metadata": {},
   "source": [
    "## Load raw tables"
   ]
  },
  {
   "cell_type": "code",
   "execution_count": 6,
   "id": "2ce66125-2051-4691-83b9-52e9e32a207c",
   "metadata": {},
   "outputs": [],
   "source": [
    "customers    = spark.table(\"unity.raw.customers\")\n",
    "staffs       = spark.table(\"unity.raw.staffs\")\n",
    "stores       = spark.table(\"unity.raw.stores\")\n",
    "products     = spark.table(\"unity.raw.products\")\n",
    "transactions = spark.table(\"unity.raw.transactions\")"
   ]
  },
  {
   "cell_type": "code",
   "execution_count": 7,
   "id": "0077902c-b583-4f74-83eb-7c41d7670de2",
   "metadata": {},
   "outputs": [],
   "source": [
    "# Create temp views\n",
    "customers.createOrReplaceTempView(\"customers\")\n",
    "staffs.createOrReplaceTempView(\"staffs\")\n",
    "stores.createOrReplaceTempView(\"stores\")\n",
    "products.createOrReplaceTempView(\"products\")\n",
    "transactions.createOrReplaceTempView(\"transactions\")"
   ]
  },
  {
   "cell_type": "markdown",
   "id": "9aee468a-49bd-469d-8734-57209820e7b3",
   "metadata": {},
   "source": [
    "## Denorm Table"
   ]
  },
  {
   "cell_type": "code",
   "execution_count": 26,
   "id": "e4ce1b9f-5330-4d6c-b404-5d2a357a6882",
   "metadata": {},
   "outputs": [],
   "source": [
    "query = \"\"\"\n",
    "SELECT\n",
    "    t.transaction_id,\n",
    "    t.item_id,\n",
    "    t.quantity,\n",
    "    p.product_name,\n",
    "    p.category,\n",
    "    p.unit_price,\n",
    "    c.first_name || \" \" || c.last_name as customer_name,\n",
    "    year(current_date()) - year(c.yob) as age,\n",
    "    s.first_name || \" \" || s.last_name as staff_name,\n",
    "    t.quantity * p.unit_price as total_amount,\n",
    "    t.store as store_name,\n",
    "    st.address as store_address,\n",
    "    t.utc_dt as transaction_ts\n",
    "FROM transactions t\n",
    "LEFT JOIN customers c\n",
    "    ON t.customer_id = c.customer_id\n",
    "LEFT JOIN products p\n",
    "    ON t.item_id = p.product_id\n",
    "LEFT JOIN staffs s\n",
    "    ON t.staff_id = s.staff_id\n",
    "LEFT JOIN stores st\n",
    "    ON t.store = st.name\n",
    "\"\"\""
   ]
  },
  {
   "cell_type": "code",
   "execution_count": 27,
   "id": "8336847a-d6e5-4100-92eb-2dbd35972267",
   "metadata": {},
   "outputs": [],
   "source": [
    "df = (\n",
    "    spark.sql(query)\n",
    "    .transform(add_processing_ts)\n",
    ")"
   ]
  },
  {
   "cell_type": "code",
   "execution_count": 28,
   "id": "cca38699-1345-40f5-972d-23c445f8c763",
   "metadata": {},
   "outputs": [
    {
     "name": "stdout",
     "output_type": "stream",
     "text": [
      "root\n",
      " |-- transaction_id: string (nullable = true)\n",
      " |-- item_id: string (nullable = true)\n",
      " |-- quantity: integer (nullable = true)\n",
      " |-- product_name: string (nullable = true)\n",
      " |-- category: string (nullable = true)\n",
      " |-- unit_price: long (nullable = true)\n",
      " |-- customer_name: string (nullable = true)\n",
      " |-- age: integer (nullable = true)\n",
      " |-- staff_name: string (nullable = true)\n",
      " |-- total_amount: long (nullable = true)\n",
      " |-- store_name: string (nullable = true)\n",
      " |-- store_address: string (nullable = true)\n",
      " |-- transaction_ts: string (nullable = true)\n",
      " |-- last_processed_ts: timestamp (nullable = false)\n",
      "\n"
     ]
    }
   ],
   "source": [
    "df.printSchema()"
   ]
  },
  {
   "cell_type": "markdown",
   "id": "4f2a195a-4c58-40d7-90d2-32c3ada34566",
   "metadata": {},
   "source": [
    "## Merge table"
   ]
  },
  {
   "cell_type": "code",
   "execution_count": null,
   "id": "c581e461-90ac-4edd-8eb6-f4706a39767f",
   "metadata": {},
   "outputs": [],
   "source": [
    "# merge_table(\n",
    "#     df=df,\n",
    "#     uc_path=uc_path(catalog, schema, \"master_table\"),\n",
    "#     merge_columns=[\"customer_id\"],\n",
    "#     spark=spark\n",
    "# )"
   ]
  }
 ],
 "metadata": {
  "kernelspec": {
   "display_name": "Python 3 (ipykernel)",
   "language": "python",
   "name": "python3"
  },
  "language_info": {
   "codemirror_mode": {
    "name": "ipython",
    "version": 3
   },
   "file_extension": ".py",
   "mimetype": "text/x-python",
   "name": "python",
   "nbconvert_exporter": "python",
   "pygments_lexer": "ipython3",
   "version": "3.12.2"
  }
 },
 "nbformat": 4,
 "nbformat_minor": 5
}
