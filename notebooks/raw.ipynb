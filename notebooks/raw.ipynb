{
 "cells": [
  {
   "cell_type": "markdown",
   "id": "fd072818-cecd-4e31-9c1d-c1ab81ae6ecc",
   "metadata": {},
   "source": [
    "## Init"
   ]
  },
  {
   "cell_type": "code",
   "execution_count": 3,
   "id": "5fe7d3e6-d269-4357-992e-c0b7ac3c33f4",
   "metadata": {},
   "outputs": [],
   "source": [
    "import findspark\n",
    "import os\n",
    "import sys\n",
    "\n",
    "from dotenv import load_dotenv\n",
    "from IPython.core.magic import register_cell_magic\n",
    "\n",
    "# Find Spark package\n",
    "findspark.init()\n",
    "\n",
    "# Get environment variable from .env file\n",
    "env = load_dotenv()\n",
    "\n",
    "# Add project working directory to PATH\n",
    "sys.path.append(os.getenv(\"PROJECT_FOLDER\"))"
   ]
  },
  {
   "cell_type": "code",
   "execution_count": 4,
   "id": "458dff8e-d5c8-4194-af83-76d397fa29a8",
   "metadata": {},
   "outputs": [],
   "source": [
    "from src.transform.etl import *\n",
    "from src.transform.common import *\n",
    "\n",
    "from IPython.core.magic import register_cell_magic"
   ]
  },
  {
   "cell_type": "code",
   "execution_count": 5,
   "id": "279aadb3-5161-45ae-96d5-9c375535754b",
   "metadata": {},
   "outputs": [
    {
     "name": "stderr",
     "output_type": "stream",
     "text": [
      "24/12/16 18:43:52 WARN Utils: Your hostname, khoa-le-MS-7B19 resolves to a loopback address: 127.0.1.1; using 192.168.1.7 instead (on interface eno1)\n",
      "24/12/16 18:43:52 WARN Utils: Set SPARK_LOCAL_IP if you need to bind to another address\n",
      "Ivy Default Cache set to: /home/khoa-le/.ivy2/cache\n",
      "The jars for the packages stored in: /home/khoa-le/.ivy2/jars\n",
      "io.delta#delta-spark_2.12 added as a dependency\n",
      "io.unitycatalog#unitycatalog-spark_2.12 added as a dependency\n",
      ":: resolving dependencies :: org.apache.spark#spark-submit-parent-59408991-f204-4b50-8d1a-b1f841c0c977;1.0\n",
      "\tconfs: [default]\n"
     ]
    },
    {
     "name": "stdout",
     "output_type": "stream",
     "text": [
      ":: loading settings :: url = jar:file:/home/khoa-le/data/app/spark-3.5.3-bin-hadoop3/jars/ivy-2.5.1.jar!/org/apache/ivy/core/settings/ivysettings.xml\n"
     ]
    },
    {
     "name": "stderr",
     "output_type": "stream",
     "text": [
      "\tfound io.delta#delta-spark_2.12;3.2.1 in central\n",
      "\tfound io.delta#delta-storage;3.2.1 in central\n",
      "\tfound org.antlr#antlr4-runtime;4.9.3 in central\n",
      "\tfound io.unitycatalog#unitycatalog-spark_2.12;0.2.0 in central\n",
      "\tfound io.unitycatalog#unitycatalog-client;0.2.0 in central\n",
      "\tfound org.slf4j#slf4j-api;2.0.13 in central\n",
      "\tfound org.apache.logging.log4j#log4j-slf4j2-impl;2.23.1 in central\n",
      "\tfound org.apache.logging.log4j#log4j-api;2.23.1 in central\n",
      "\tfound org.apache.logging.log4j#log4j-core;2.23.1 in central\n",
      "\tfound com.fasterxml.jackson.datatype#jackson-datatype-jsr310;2.17.0 in central\n",
      "\tfound org.openapitools#jackson-databind-nullable;0.2.6 in central\n",
      "\tfound com.google.code.findbugs#jsr305;3.0.2 in central\n",
      "\tfound com.fasterxml.jackson.core#jackson-databind;2.15.0 in central\n",
      "\tfound com.fasterxml.jackson.core#jackson-annotations;2.15.0 in central\n",
      "\tfound com.fasterxml.jackson.core#jackson-core;2.15.0 in central\n",
      "\tfound com.fasterxml.jackson.module#jackson-module-scala_2.12;2.15.0 in central\n",
      "\tfound com.thoughtworks.paranamer#paranamer;2.8 in central\n",
      "\tfound com.fasterxml.jackson.dataformat#jackson-dataformat-xml;2.15.0 in central\n",
      "\tfound org.codehaus.woodstox#stax2-api;4.2.1 in central\n",
      "\tfound com.fasterxml.woodstox#woodstox-core;6.5.1 in central\n",
      "\tfound org.antlr#antlr4;4.9.3 in central\n",
      "\tfound org.antlr#antlr-runtime;3.5.2 in central\n",
      "\tfound org.antlr#ST4;4.3.1 in central\n",
      "\tfound org.abego.treelayout#org.abego.treelayout.core;1.0.3 in central\n",
      "\tfound org.glassfish#javax.json;1.0.4 in central\n",
      "\tfound com.ibm.icu#icu4j;69.1 in central\n",
      "\tfound org.apache.hadoop#hadoop-client-runtime;3.4.0 in central\n",
      "\tfound org.apache.hadoop#hadoop-client-api;3.4.0 in central\n",
      "\tfound org.xerial.snappy#snappy-java;1.1.10.4 in central\n",
      "\tfound commons-logging#commons-logging;1.2 in central\n",
      ":: resolution report :: resolve 501ms :: artifacts dl 14ms\n",
      "\t:: modules in use:\n",
      "\tcom.fasterxml.jackson.core#jackson-annotations;2.15.0 from central in [default]\n",
      "\tcom.fasterxml.jackson.core#jackson-core;2.15.0 from central in [default]\n",
      "\tcom.fasterxml.jackson.core#jackson-databind;2.15.0 from central in [default]\n",
      "\tcom.fasterxml.jackson.dataformat#jackson-dataformat-xml;2.15.0 from central in [default]\n",
      "\tcom.fasterxml.jackson.datatype#jackson-datatype-jsr310;2.17.0 from central in [default]\n",
      "\tcom.fasterxml.jackson.module#jackson-module-scala_2.12;2.15.0 from central in [default]\n",
      "\tcom.fasterxml.woodstox#woodstox-core;6.5.1 from central in [default]\n",
      "\tcom.google.code.findbugs#jsr305;3.0.2 from central in [default]\n",
      "\tcom.ibm.icu#icu4j;69.1 from central in [default]\n",
      "\tcom.thoughtworks.paranamer#paranamer;2.8 from central in [default]\n",
      "\tcommons-logging#commons-logging;1.2 from central in [default]\n",
      "\tio.delta#delta-spark_2.12;3.2.1 from central in [default]\n",
      "\tio.delta#delta-storage;3.2.1 from central in [default]\n",
      "\tio.unitycatalog#unitycatalog-client;0.2.0 from central in [default]\n",
      "\tio.unitycatalog#unitycatalog-spark_2.12;0.2.0 from central in [default]\n",
      "\torg.abego.treelayout#org.abego.treelayout.core;1.0.3 from central in [default]\n",
      "\torg.antlr#ST4;4.3.1 from central in [default]\n",
      "\torg.antlr#antlr-runtime;3.5.2 from central in [default]\n",
      "\torg.antlr#antlr4;4.9.3 from central in [default]\n",
      "\torg.antlr#antlr4-runtime;4.9.3 from central in [default]\n",
      "\torg.apache.hadoop#hadoop-client-api;3.4.0 from central in [default]\n",
      "\torg.apache.hadoop#hadoop-client-runtime;3.4.0 from central in [default]\n",
      "\torg.apache.logging.log4j#log4j-api;2.23.1 from central in [default]\n",
      "\torg.apache.logging.log4j#log4j-core;2.23.1 from central in [default]\n",
      "\torg.apache.logging.log4j#log4j-slf4j2-impl;2.23.1 from central in [default]\n",
      "\torg.codehaus.woodstox#stax2-api;4.2.1 from central in [default]\n",
      "\torg.glassfish#javax.json;1.0.4 from central in [default]\n",
      "\torg.openapitools#jackson-databind-nullable;0.2.6 from central in [default]\n",
      "\torg.slf4j#slf4j-api;2.0.13 from central in [default]\n",
      "\torg.xerial.snappy#snappy-java;1.1.10.4 from central in [default]\n",
      "\t:: evicted modules:\n",
      "\torg.slf4j#slf4j-api;2.0.9 by [org.slf4j#slf4j-api;2.0.13] in [default]\n",
      "\tcom.fasterxml.jackson.core#jackson-annotations;2.17.0 by [com.fasterxml.jackson.core#jackson-annotations;2.15.0] in [default]\n",
      "\tcom.fasterxml.jackson.core#jackson-core;2.17.0 by [com.fasterxml.jackson.core#jackson-core;2.15.0] in [default]\n",
      "\tcom.fasterxml.jackson.core#jackson-databind;2.17.0 by [com.fasterxml.jackson.core#jackson-databind;2.15.0] in [default]\n",
      "\tcom.fasterxml.jackson.core#jackson-databind;2.14.0-rc2 by [com.fasterxml.jackson.core#jackson-databind;2.15.0] in [default]\n",
      "\torg.slf4j#slf4j-api;1.7.36 by [org.slf4j#slf4j-api;2.0.13] in [default]\n",
      "\t---------------------------------------------------------------------\n",
      "\t|                  |            modules            ||   artifacts   |\n",
      "\t|       conf       | number| search|dwnlded|evicted|| number|dwnlded|\n",
      "\t---------------------------------------------------------------------\n",
      "\t|      default     |   36  |   0   |   0   |   6   ||   30  |   0   |\n",
      "\t---------------------------------------------------------------------\n",
      ":: retrieving :: org.apache.spark#spark-submit-parent-59408991-f204-4b50-8d1a-b1f841c0c977\n",
      "\tconfs: [default]\n",
      "\t0 artifacts copied, 30 already retrieved (0kB/9ms)\n",
      "24/12/16 18:43:53 WARN NativeCodeLoader: Unable to load native-hadoop library for your platform... using builtin-java classes where applicable\n",
      "Setting default log level to \"WARN\".\n",
      "To adjust logging level use sc.setLogLevel(newLevel). For SparkR, use setLogLevel(newLevel).\n",
      "24/12/16 18:43:54 WARN Utils: Service 'SparkUI' could not bind on port 4040. Attempting port 4041.\n"
     ]
    }
   ],
   "source": [
    "from pyspark.sql import SparkSession\n",
    "from pyspark.sql.types import StructType, StructField, StringType, ArrayType, IntegerType\n",
    "\n",
    "# Initialize Spark session with configurations\n",
    "spark = SparkSession.builder \\\n",
    "    .appName(\"Delta-Unity-Catalog\") \\\n",
    "    .master(\"local[*]\") \\\n",
    "    .config(\"spark.jars.packages\", \n",
    "            \"io.delta:delta-spark_2.12:3.2.1,io.unitycatalog:unitycatalog-spark_2.12:0.2.0\") \\\n",
    "    .config(\"spark.sql.extensions\", \"io.delta.sql.DeltaSparkSessionExtension\") \\\n",
    "    .config(\"spark.sql.catalog.spark_catalog\", \"io.unitycatalog.spark.UCSingleCatalog\") \\\n",
    "    .config(\"spark.sql.catalog.unity\", \"io.unitycatalog.spark.UCSingleCatalog\") \\\n",
    "    .config(\"spark.sql.catalog.unity.uri\", \"http://localhost:8080\") \\\n",
    "    .config(\"spark.sql.catalog.unity.token\", \"\") \\\n",
    "    .config(\"spark.sql.defaultCatalog\", \"unity\") \\\n",
    "    .getOrCreate()"
   ]
  },
  {
   "cell_type": "code",
   "execution_count": 6,
   "id": "0392cbab-9182-44ee-8818-5a9278590222",
   "metadata": {},
   "outputs": [],
   "source": [
    "# Create a global variable for the Spark session\n",
    "@register_cell_magic\n",
    "def sql(line, cell=None):\n",
    "    query = cell or line\n",
    "    df = spark.sql(query)\n",
    "    return df.show()"
   ]
  },
  {
   "cell_type": "code",
   "execution_count": 10,
   "id": "033f4b7b-f11b-495b-a8ac-5fe961240311",
   "metadata": {},
   "outputs": [],
   "source": [
    "# Declare variables\n",
    "catalog = os.getenv(\"CATALOG\")\n",
    "schema = os.getenv(\"RAW_SCHEMA\")\n",
    "storage_folder = os.getenv(\"STORAGE_FOLDER\")"
   ]
  },
  {
   "cell_type": "markdown",
   "id": "cb46c071-94f6-44ed-b24e-d1e9429c43ce",
   "metadata": {},
   "source": [
    "## Load Dataset"
   ]
  },
  {
   "cell_type": "code",
   "execution_count": 11,
   "id": "d04134cf-d045-46f9-9f8d-d2ea331dc790",
   "metadata": {},
   "outputs": [],
   "source": [
    "customer_df = (\n",
    "    spark.read.format(\"csv\")\n",
    "    .option(\"header\", \"true\")\n",
    "    . option(\"inferSchema\",\"true\").load(f\"{storage_folder}/uc_{catalog}/{schema}/_volumes/txt_files/customer_data.csv\")\n",
    ")"
   ]
  },
  {
   "cell_type": "code",
   "execution_count": 12,
   "id": "427592db-01bc-483c-ba63-8df5a89548e4",
   "metadata": {},
   "outputs": [],
   "source": [
    "staff_df = (\n",
    "    spark.read.format(\"csv\")\n",
    "    .option(\"header\", \"true\")\n",
    "    .option(\"inferSchema\",\"true\").load(f\"{storage_folder}/uc_{catalog}/{schema}/_volumes/txt_files/staff_data.csv\")\n",
    ")"
   ]
  },
  {
   "cell_type": "code",
   "execution_count": 13,
   "id": "a9206958-cc3a-4e8b-99ff-4f24837083db",
   "metadata": {},
   "outputs": [],
   "source": [
    "store_df = (\n",
    "    spark.read.format(\"csv\")\n",
    "    .option(\"header\", \"true\")\n",
    "    .option(\"inferSchema\", \"true\").load(f\"{storage_folder}/uc_{catalog}/{schema}/_volumes/txt_files/store_data.csv\")\n",
    ")"
   ]
  },
  {
   "cell_type": "code",
   "execution_count": 14,
   "id": "dd21e992-6cae-491f-ad16-40cf2d67ec24",
   "metadata": {},
   "outputs": [],
   "source": [
    "product_df = (\n",
    "    spark.read.format(\"parquet\")\n",
    "    .load(f\"{storage_folder}/other_sources/product_data.parquet\")\n",
    ")"
   ]
  },
  {
   "cell_type": "code",
   "execution_count": 15,
   "id": "c74f38b7-8981-40d3-89bc-0e7f25c535ed",
   "metadata": {},
   "outputs": [],
   "source": [
    "# Define the schema\n",
    "transaction_schema = StructType([\n",
    "    StructField(\"transaction_id\", StringType(), True),\n",
    "    StructField(\"store\", StringType(), True),\n",
    "    StructField(\"customer_id\", StringType(), True),\n",
    "    StructField(\"staff_id\", StringType(), True),\n",
    "    StructField(\"transaction_items\", ArrayType(\n",
    "        StructType([\n",
    "            StructField(\"item_id\", StringType(), True),\n",
    "            StructField(\"quantity\", IntegerType(), True),\n",
    "            StructField(\"item_order\", IntegerType(), True)\n",
    "        ])\n",
    "    ), True),\n",
    "    StructField(\"utc_dt\", StringType(), True)\n",
    "])\n",
    "\n",
    "transaction_df = spark.read.json(\n",
    "    f\"{storage_folder}/uc_{catalog}/{schema}/_volumes/json_files/transaction_data.json\", \n",
    "    schema=transaction_schema, \n",
    "    multiLine=True\n",
    ")"
   ]
  },
  {
   "cell_type": "markdown",
   "id": "d8e325dd-2c3c-461b-8c5f-7790f68cc556",
   "metadata": {},
   "source": [
    "## Raw"
   ]
  },
  {
   "cell_type": "code",
   "execution_count": 16,
   "id": "4e193324-4445-45ce-8118-be92fa269d46",
   "metadata": {},
   "outputs": [],
   "source": [
    "customer_df = ( \n",
    "    customer_df\n",
    "     .transform(add_processing_ts)\n",
    ")"
   ]
  },
  {
   "cell_type": "code",
   "execution_count": 17,
   "id": "7ce09225-aeb6-4051-aac8-e2166cfa7d9f",
   "metadata": {},
   "outputs": [
    {
     "name": "stdout",
     "output_type": "stream",
     "text": [
      "root\n",
      " |-- customer_id: string (nullable = true)\n",
      " |-- gender: string (nullable = true)\n",
      " |-- first_name: string (nullable = true)\n",
      " |-- last_name: string (nullable = true)\n",
      " |-- email: string (nullable = true)\n",
      " |-- yob: date (nullable = true)\n",
      " |-- phone_number: string (nullable = true)\n",
      " |-- job: string (nullable = true)\n",
      " |-- address: string (nullable = true)\n",
      " |-- first_transaction: date (nullable = true)\n",
      " |-- membership: string (nullable = true)\n",
      " |-- last_processed_ts: timestamp (nullable = false)\n",
      "\n"
     ]
    }
   ],
   "source": [
    "customer_df.printSchema()"
   ]
  },
  {
   "cell_type": "code",
   "execution_count": 18,
   "id": "5d8864e0-1321-4c7c-907c-97acf72163ba",
   "metadata": {},
   "outputs": [],
   "source": [
    "staff_df = (\n",
    "    staff_df\n",
    "    .transform(add_processing_ts)\n",
    ")"
   ]
  },
  {
   "cell_type": "code",
   "execution_count": 19,
   "id": "667241e2-4816-4fdb-a5bc-d7e82382b9ee",
   "metadata": {},
   "outputs": [
    {
     "name": "stdout",
     "output_type": "stream",
     "text": [
      "root\n",
      " |-- staff_id: string (nullable = true)\n",
      " |-- gender: string (nullable = true)\n",
      " |-- first_name: string (nullable = true)\n",
      " |-- last_name: string (nullable = true)\n",
      " |-- store_id: string (nullable = true)\n",
      " |-- last_processed_ts: timestamp (nullable = false)\n",
      "\n"
     ]
    }
   ],
   "source": [
    "staff_df.printSchema()"
   ]
  },
  {
   "cell_type": "code",
   "execution_count": 20,
   "id": "12bf356a-a3fd-4971-bf00-c5231a37f95c",
   "metadata": {},
   "outputs": [],
   "source": [
    "store_df = (\n",
    "    store_df\n",
    "    .transform(add_processing_ts)\n",
    ")"
   ]
  },
  {
   "cell_type": "code",
   "execution_count": 22,
   "id": "24eb95ba-ecbc-42ba-9416-1160c671ee74",
   "metadata": {},
   "outputs": [
    {
     "name": "stdout",
     "output_type": "stream",
     "text": [
      "root\n",
      " |-- id: string (nullable = true)\n",
      " |-- name: string (nullable = true)\n",
      " |-- address: string (nullable = true)\n",
      " |-- phone: string (nullable = true)\n",
      " |-- email: string (nullable = true)\n",
      " |-- last_processed_ts: timestamp (nullable = false)\n",
      "\n"
     ]
    }
   ],
   "source": [
    "store_df.printSchema()"
   ]
  },
  {
   "cell_type": "code",
   "execution_count": 21,
   "id": "023ef179-d1c4-4cac-b392-8a3e4bed3a4d",
   "metadata": {},
   "outputs": [],
   "source": [
    "product_df = (\n",
    "    product_df\n",
    "    .transform(add_processing_ts)\n",
    ")"
   ]
  },
  {
   "cell_type": "code",
   "execution_count": 23,
   "id": "cd1ac341-e837-4adb-8717-9cb7c2acf6eb",
   "metadata": {},
   "outputs": [
    {
     "name": "stdout",
     "output_type": "stream",
     "text": [
      "root\n",
      " |-- product_id: string (nullable = true)\n",
      " |-- category: string (nullable = true)\n",
      " |-- product_name: string (nullable = true)\n",
      " |-- unit_price: long (nullable = true)\n",
      " |-- last_processed_ts: timestamp (nullable = false)\n",
      "\n"
     ]
    }
   ],
   "source": [
    "product_df.printSchema()"
   ]
  },
  {
   "cell_type": "code",
   "execution_count": 24,
   "id": "3574d924-ba6d-4f10-80cf-fe80a8bb0a6f",
   "metadata": {},
   "outputs": [
    {
     "name": "stdout",
     "output_type": "stream",
     "text": [
      "root\n",
      " |-- transaction_id: string (nullable = true)\n",
      " |-- store: string (nullable = true)\n",
      " |-- customer_id: string (nullable = true)\n",
      " |-- staff_id: string (nullable = true)\n",
      " |-- transaction_items: array (nullable = true)\n",
      " |    |-- element: struct (containsNull = true)\n",
      " |    |    |-- item_id: string (nullable = true)\n",
      " |    |    |-- quantity: integer (nullable = true)\n",
      " |    |    |-- item_order: integer (nullable = true)\n",
      " |-- utc_dt: string (nullable = true)\n",
      "\n"
     ]
    }
   ],
   "source": [
    "transaction_df.printSchema()"
   ]
  },
  {
   "cell_type": "code",
   "execution_count": 25,
   "id": "f28d9acb-8362-49d7-a808-c015e7777782",
   "metadata": {},
   "outputs": [],
   "source": [
    "transaction_df = (\n",
    "    transaction_df\n",
    "    .transform(process_transaction, spark)\n",
    "    .transform(add_processing_ts)\n",
    ")"
   ]
  },
  {
   "cell_type": "markdown",
   "id": "b49dff82-6216-4677-97f1-334305f521ae",
   "metadata": {},
   "source": [
    "## Merge table"
   ]
  },
  {
   "cell_type": "code",
   "execution_count": 26,
   "id": "050b8e40-7ef2-4eaa-9f3e-c1234195d5bd",
   "metadata": {},
   "outputs": [
    {
     "name": "stdout",
     "output_type": "stream",
     "text": [
      "Query: \n",
      "    MERGE INTO unity.raw.customers as target\n",
      "    USING source as source\n",
      "    ON  target.customer_id = source.customer_id  \n",
      "    WHEN MATCHED THEN\n",
      "        UPDATE SET *\n",
      "    WHEN NOT MATCHED THEN\n",
      "        INSERT *\n",
      "    \n"
     ]
    },
    {
     "name": "stderr",
     "output_type": "stream",
     "text": [
      "24/12/16 18:47:37 WARN SparkStringUtils: Truncated the string representation of a plan since it was too large. This behavior can be adjusted by setting 'spark.sql.debug.maxToStringFields'.\n",
      "                                                                                "
     ]
    },
    {
     "name": "stdout",
     "output_type": "stream",
     "text": [
      "+-----------------+----------------+----------------+-----------------+\n",
      "|num_affected_rows|num_updated_rows|num_deleted_rows|num_inserted_rows|\n",
      "+-----------------+----------------+----------------+-----------------+\n",
      "|              100|               0|               0|              100|\n",
      "+-----------------+----------------+----------------+-----------------+\n",
      "\n",
      "Query: \n",
      "    MERGE INTO unity.raw.products as target\n",
      "    USING source as source\n",
      "    ON  target.product_id = source.product_id  \n",
      "    WHEN MATCHED THEN\n",
      "        UPDATE SET *\n",
      "    WHEN NOT MATCHED THEN\n",
      "        INSERT *\n",
      "    \n",
      "+-----------------+----------------+----------------+-----------------+\n",
      "|num_affected_rows|num_updated_rows|num_deleted_rows|num_inserted_rows|\n",
      "+-----------------+----------------+----------------+-----------------+\n",
      "|               35|               0|               0|               35|\n",
      "+-----------------+----------------+----------------+-----------------+\n",
      "\n",
      "Query: \n",
      "    MERGE INTO unity.raw.staffs as target\n",
      "    USING source as source\n",
      "    ON  target.staff_id = source.staff_id  \n",
      "    WHEN MATCHED THEN\n",
      "        UPDATE SET *\n",
      "    WHEN NOT MATCHED THEN\n",
      "        INSERT *\n",
      "    \n",
      "+-----------------+----------------+----------------+-----------------+\n",
      "|num_affected_rows|num_updated_rows|num_deleted_rows|num_inserted_rows|\n",
      "+-----------------+----------------+----------------+-----------------+\n",
      "|               12|               0|               0|               12|\n",
      "+-----------------+----------------+----------------+-----------------+\n",
      "\n",
      "Query: \n",
      "    MERGE INTO unity.raw.stores as target\n",
      "    USING source as source\n",
      "    ON  target.name = source.name  \n",
      "    WHEN MATCHED THEN\n",
      "        UPDATE SET *\n",
      "    WHEN NOT MATCHED THEN\n",
      "        INSERT *\n",
      "    \n",
      "+-----------------+----------------+----------------+-----------------+\n",
      "|num_affected_rows|num_updated_rows|num_deleted_rows|num_inserted_rows|\n",
      "+-----------------+----------------+----------------+-----------------+\n",
      "|               20|               0|               0|               20|\n",
      "+-----------------+----------------+----------------+-----------------+\n",
      "\n",
      "Query: \n",
      "    MERGE INTO unity.raw.transactions as target\n",
      "    USING source as source\n",
      "    ON  target.transaction_id = source.transaction_id  AND   target.item_order = source.item_order  \n",
      "    WHEN MATCHED THEN\n",
      "        UPDATE SET *\n",
      "    WHEN NOT MATCHED THEN\n",
      "        INSERT *\n",
      "    \n",
      "+-----------------+----------------+----------------+-----------------+\n",
      "|num_affected_rows|num_updated_rows|num_deleted_rows|num_inserted_rows|\n",
      "+-----------------+----------------+----------------+-----------------+\n",
      "|             1483|               0|               0|             1483|\n",
      "+-----------------+----------------+----------------+-----------------+\n",
      "\n"
     ]
    }
   ],
   "source": [
    "# customer\n",
    "merge_table(\n",
    "    df=customer_df,\n",
    "    uc_path=uc_path(catalog, schema, \"customers\"),\n",
    "    merge_columns=[\"customer_id\"],\n",
    "    spark=spark\n",
    ")\n",
    "\n",
    "# product\n",
    "merge_table(\n",
    "    df=product_df,\n",
    "    uc_path=uc_path(catalog, schema, \"products\"),\n",
    "    merge_columns=[\"product_id\"],\n",
    "    spark=spark\n",
    ")\n",
    "\n",
    "# staff\n",
    "merge_table(\n",
    "    df=staff_df,\n",
    "    uc_path=uc_path(catalog, schema, \"staffs\"),\n",
    "    merge_columns=[\"staff_id\"],\n",
    "    spark=spark\n",
    ")\n",
    "\n",
    "# store\n",
    "merge_table(\n",
    "    df=store_df,\n",
    "    uc_path=uc_path(catalog, schema, \"stores\"),\n",
    "    merge_columns=[\"name\"],\n",
    "    spark=spark\n",
    ")\n",
    "\n",
    "# transaction\n",
    "merge_table(\n",
    "    df=transaction_df, \n",
    "    uc_path=uc_path(catalog, schema, \"transactions\"), \n",
    "    merge_columns=[\"transaction_id\", \"item_order\"],\n",
    "    spark=spark\n",
    ")"
   ]
  }
 ],
 "metadata": {
  "kernelspec": {
   "display_name": "Python 3 (ipykernel)",
   "language": "python",
   "name": "python3"
  },
  "language_info": {
   "codemirror_mode": {
    "name": "ipython",
    "version": 3
   },
   "file_extension": ".py",
   "mimetype": "text/x-python",
   "name": "python",
   "nbconvert_exporter": "python",
   "pygments_lexer": "ipython3",
   "version": "3.11.11"
  }
 },
 "nbformat": 4,
 "nbformat_minor": 5
}
