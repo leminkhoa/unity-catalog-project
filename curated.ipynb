{
 "cells": [
  {
   "cell_type": "code",
   "execution_count": 2,
   "id": "e9a380c7-0af0-4f77-ac0c-c960cb01a92e",
   "metadata": {},
   "outputs": [],
   "source": [
    "import findspark\n",
    "\n",
    "findspark.init()"
   ]
  },
  {
   "cell_type": "code",
   "execution_count": 3,
   "id": "77e233cb-2860-4863-bc51-2135fbe81dc5",
   "metadata": {},
   "outputs": [
    {
     "name": "stderr",
     "output_type": "stream",
     "text": [
      "24/12/15 21:27:20 WARN Utils: Your hostname, khoa-le-MS-7B19 resolves to a loopback address: 127.0.1.1; using 192.168.1.6 instead (on interface eno1)\n",
      "24/12/15 21:27:20 WARN Utils: Set SPARK_LOCAL_IP if you need to bind to another address\n",
      "Ivy Default Cache set to: /home/khoa-le/.ivy2/cache\n",
      "The jars for the packages stored in: /home/khoa-le/.ivy2/jars\n",
      "io.delta#delta-spark_2.12 added as a dependency\n",
      "io.unitycatalog#unitycatalog-spark_2.12 added as a dependency\n",
      ":: resolving dependencies :: org.apache.spark#spark-submit-parent-5b6da8ec-3b6a-4e6a-9caa-1702d31c18b9;1.0\n",
      "\tconfs: [default]\n"
     ]
    },
    {
     "name": "stdout",
     "output_type": "stream",
     "text": [
      ":: loading settings :: url = jar:file:/home/khoa-le/data/app/spark-3.5.3-bin-hadoop3/jars/ivy-2.5.1.jar!/org/apache/ivy/core/settings/ivysettings.xml\n"
     ]
    },
    {
     "name": "stderr",
     "output_type": "stream",
     "text": [
      "\tfound io.delta#delta-spark_2.12;3.2.1 in central\n",
      "\tfound io.delta#delta-storage;3.2.1 in central\n",
      "\tfound org.antlr#antlr4-runtime;4.9.3 in central\n",
      "\tfound io.unitycatalog#unitycatalog-spark_2.12;0.2.0 in central\n",
      "\tfound io.unitycatalog#unitycatalog-client;0.2.0 in central\n",
      "\tfound org.slf4j#slf4j-api;2.0.13 in central\n",
      "\tfound org.apache.logging.log4j#log4j-slf4j2-impl;2.23.1 in central\n",
      "\tfound org.apache.logging.log4j#log4j-api;2.23.1 in central\n",
      "\tfound org.apache.logging.log4j#log4j-core;2.23.1 in central\n",
      "\tfound com.fasterxml.jackson.datatype#jackson-datatype-jsr310;2.17.0 in central\n",
      "\tfound org.openapitools#jackson-databind-nullable;0.2.6 in central\n",
      "\tfound com.google.code.findbugs#jsr305;3.0.2 in central\n",
      "\tfound com.fasterxml.jackson.core#jackson-databind;2.15.0 in central\n",
      "\tfound com.fasterxml.jackson.core#jackson-annotations;2.15.0 in central\n",
      "\tfound com.fasterxml.jackson.core#jackson-core;2.15.0 in central\n",
      "\tfound com.fasterxml.jackson.module#jackson-module-scala_2.12;2.15.0 in central\n",
      "\tfound com.thoughtworks.paranamer#paranamer;2.8 in central\n",
      "\tfound com.fasterxml.jackson.dataformat#jackson-dataformat-xml;2.15.0 in central\n",
      "\tfound org.codehaus.woodstox#stax2-api;4.2.1 in central\n",
      "\tfound com.fasterxml.woodstox#woodstox-core;6.5.1 in central\n",
      "\tfound org.antlr#antlr4;4.9.3 in central\n",
      "\tfound org.antlr#antlr-runtime;3.5.2 in central\n",
      "\tfound org.antlr#ST4;4.3.1 in central\n",
      "\tfound org.abego.treelayout#org.abego.treelayout.core;1.0.3 in central\n",
      "\tfound org.glassfish#javax.json;1.0.4 in central\n",
      "\tfound com.ibm.icu#icu4j;69.1 in central\n",
      "\tfound org.apache.hadoop#hadoop-client-runtime;3.4.0 in central\n",
      "\tfound org.apache.hadoop#hadoop-client-api;3.4.0 in central\n",
      "\tfound org.xerial.snappy#snappy-java;1.1.10.4 in central\n",
      "\tfound commons-logging#commons-logging;1.2 in central\n",
      ":: resolution report :: resolve 533ms :: artifacts dl 14ms\n",
      "\t:: modules in use:\n",
      "\tcom.fasterxml.jackson.core#jackson-annotations;2.15.0 from central in [default]\n",
      "\tcom.fasterxml.jackson.core#jackson-core;2.15.0 from central in [default]\n",
      "\tcom.fasterxml.jackson.core#jackson-databind;2.15.0 from central in [default]\n",
      "\tcom.fasterxml.jackson.dataformat#jackson-dataformat-xml;2.15.0 from central in [default]\n",
      "\tcom.fasterxml.jackson.datatype#jackson-datatype-jsr310;2.17.0 from central in [default]\n",
      "\tcom.fasterxml.jackson.module#jackson-module-scala_2.12;2.15.0 from central in [default]\n",
      "\tcom.fasterxml.woodstox#woodstox-core;6.5.1 from central in [default]\n",
      "\tcom.google.code.findbugs#jsr305;3.0.2 from central in [default]\n",
      "\tcom.ibm.icu#icu4j;69.1 from central in [default]\n",
      "\tcom.thoughtworks.paranamer#paranamer;2.8 from central in [default]\n",
      "\tcommons-logging#commons-logging;1.2 from central in [default]\n",
      "\tio.delta#delta-spark_2.12;3.2.1 from central in [default]\n",
      "\tio.delta#delta-storage;3.2.1 from central in [default]\n",
      "\tio.unitycatalog#unitycatalog-client;0.2.0 from central in [default]\n",
      "\tio.unitycatalog#unitycatalog-spark_2.12;0.2.0 from central in [default]\n",
      "\torg.abego.treelayout#org.abego.treelayout.core;1.0.3 from central in [default]\n",
      "\torg.antlr#ST4;4.3.1 from central in [default]\n",
      "\torg.antlr#antlr-runtime;3.5.2 from central in [default]\n",
      "\torg.antlr#antlr4;4.9.3 from central in [default]\n",
      "\torg.antlr#antlr4-runtime;4.9.3 from central in [default]\n",
      "\torg.apache.hadoop#hadoop-client-api;3.4.0 from central in [default]\n",
      "\torg.apache.hadoop#hadoop-client-runtime;3.4.0 from central in [default]\n",
      "\torg.apache.logging.log4j#log4j-api;2.23.1 from central in [default]\n",
      "\torg.apache.logging.log4j#log4j-core;2.23.1 from central in [default]\n",
      "\torg.apache.logging.log4j#log4j-slf4j2-impl;2.23.1 from central in [default]\n",
      "\torg.codehaus.woodstox#stax2-api;4.2.1 from central in [default]\n",
      "\torg.glassfish#javax.json;1.0.4 from central in [default]\n",
      "\torg.openapitools#jackson-databind-nullable;0.2.6 from central in [default]\n",
      "\torg.slf4j#slf4j-api;2.0.13 from central in [default]\n",
      "\torg.xerial.snappy#snappy-java;1.1.10.4 from central in [default]\n",
      "\t:: evicted modules:\n",
      "\torg.slf4j#slf4j-api;2.0.9 by [org.slf4j#slf4j-api;2.0.13] in [default]\n",
      "\tcom.fasterxml.jackson.core#jackson-annotations;2.17.0 by [com.fasterxml.jackson.core#jackson-annotations;2.15.0] in [default]\n",
      "\tcom.fasterxml.jackson.core#jackson-core;2.17.0 by [com.fasterxml.jackson.core#jackson-core;2.15.0] in [default]\n",
      "\tcom.fasterxml.jackson.core#jackson-databind;2.17.0 by [com.fasterxml.jackson.core#jackson-databind;2.15.0] in [default]\n",
      "\tcom.fasterxml.jackson.core#jackson-databind;2.14.0-rc2 by [com.fasterxml.jackson.core#jackson-databind;2.15.0] in [default]\n",
      "\torg.slf4j#slf4j-api;1.7.36 by [org.slf4j#slf4j-api;2.0.13] in [default]\n",
      "\t---------------------------------------------------------------------\n",
      "\t|                  |            modules            ||   artifacts   |\n",
      "\t|       conf       | number| search|dwnlded|evicted|| number|dwnlded|\n",
      "\t---------------------------------------------------------------------\n",
      "\t|      default     |   36  |   0   |   0   |   6   ||   30  |   0   |\n",
      "\t---------------------------------------------------------------------\n",
      ":: retrieving :: org.apache.spark#spark-submit-parent-5b6da8ec-3b6a-4e6a-9caa-1702d31c18b9\n",
      "\tconfs: [default]\n",
      "\t0 artifacts copied, 30 already retrieved (0kB/9ms)\n",
      "24/12/15 21:27:21 WARN NativeCodeLoader: Unable to load native-hadoop library for your platform... using builtin-java classes where applicable\n",
      "Setting default log level to \"WARN\".\n",
      "To adjust logging level use sc.setLogLevel(newLevel). For SparkR, use setLogLevel(newLevel).\n",
      "24/12/15 21:27:22 WARN Utils: Service 'SparkUI' could not bind on port 4040. Attempting port 4041.\n"
     ]
    }
   ],
   "source": [
    "from pyspark.sql import SparkSession\n",
    "from pyspark.sql.types import StructType, StructField, StringType, ArrayType, IntegerType\n",
    "\n",
    "# Initialize Spark session with configurations\n",
    "spark = SparkSession.builder \\\n",
    "    .appName(\"Delta-Unity-Catalog\") \\\n",
    "    .master(\"local[*]\") \\\n",
    "    .config(\"spark.jars.packages\", \n",
    "            \"io.delta:delta-spark_2.12:3.2.1,io.unitycatalog:unitycatalog-spark_2.12:0.2.0\") \\\n",
    "    .config(\"spark.sql.extensions\", \"io.delta.sql.DeltaSparkSessionExtension\") \\\n",
    "    .config(\"spark.sql.catalog.spark_catalog\", \"io.unitycatalog.spark.UCSingleCatalog\") \\\n",
    "    .config(\"spark.sql.catalog.unity\", \"io.unitycatalog.spark.UCSingleCatalog\") \\\n",
    "    .config(\"spark.sql.catalog.unity.uri\", \"http://localhost:8080\") \\\n",
    "    .config(\"spark.sql.catalog.unity.token\", \"\") \\\n",
    "    .config(\"spark.sql.defaultCatalog\", \"unity\") \\\n",
    "    .getOrCreate()"
   ]
  },
  {
   "cell_type": "code",
   "execution_count": 4,
   "id": "672839a3-8060-4aec-af57-3e67933883d1",
   "metadata": {},
   "outputs": [],
   "source": [
    "from src.transform.etl import *\n",
    "from src.transform.common import *\n",
    "\n",
    "from IPython.core.magic import register_cell_magic"
   ]
  },
  {
   "cell_type": "code",
   "execution_count": 5,
   "id": "b83e82df-550b-4ac1-ad7a-8d21387951ce",
   "metadata": {},
   "outputs": [],
   "source": [
    "# Create a global variable for the Spark session\n",
    "@register_cell_magic\n",
    "def sql(line, cell=None):\n",
    "    query = cell or line\n",
    "    df = spark.sql(query)\n",
    "    return df.show()"
   ]
  },
  {
   "cell_type": "code",
   "execution_count": 6,
   "id": "789c7c26-f911-4cfd-a0f1-d83f0c5e4392",
   "metadata": {},
   "outputs": [],
   "source": [
    "# Declare variables\n",
    "catalog = \"unity\"\n",
    "schema = \"curated\""
   ]
  },
  {
   "cell_type": "markdown",
   "id": "4fff968c-8822-49d6-b11f-1608dcf98dfe",
   "metadata": {},
   "source": [
    "## Load raw tables"
   ]
  },
  {
   "cell_type": "code",
   "execution_count": 11,
   "id": "2ce66125-2051-4691-83b9-52e9e32a207c",
   "metadata": {},
   "outputs": [],
   "source": [
    "customers    = spark.table(\"unity.raw.customers\")\n",
    "staffs       = spark.table(\"unity.raw.staffs\")\n",
    "stores       = spark.table(\"unity.raw.stores\")\n",
    "products     = spark.table(\"unity.raw.products\")\n",
    "transactions = spark.table(\"unity.raw.transactions\")"
   ]
  },
  {
   "cell_type": "code",
   "execution_count": 12,
   "id": "0077902c-b583-4f74-83eb-7c41d7670de2",
   "metadata": {},
   "outputs": [],
   "source": [
    "# Create temp views\n",
    "customers.createOrReplaceTempView(\"customers\")\n",
    "staffs.createOrReplaceTempView(\"staffs\")\n",
    "stores.createOrReplaceTempView(\"stores\")\n",
    "products.createOrReplaceTempView(\"products\")\n",
    "transactions.createOrReplaceTempView(\"transactions\")"
   ]
  },
  {
   "cell_type": "code",
   "execution_count": 16,
   "id": "f792ef46-2261-4516-b174-b1658f7146f7",
   "metadata": {},
   "outputs": [
    {
     "name": "stdout",
     "output_type": "stream",
     "text": [
      "root\n",
      " |-- transaction_id: string (nullable = true)\n",
      " |-- item_id: string (nullable = true)\n",
      " |-- item_order: integer (nullable = true)\n",
      " |-- store: string (nullable = true)\n",
      " |-- customer_id: string (nullable = true)\n",
      " |-- staff_id: string (nullable = true)\n",
      " |-- quantity: integer (nullable = true)\n",
      " |-- utc_dt: string (nullable = true)\n",
      " |-- last_processed_ts: timestamp (nullable = true)\n",
      "\n"
     ]
    }
   ],
   "source": [
    "transactions.printSchema()"
   ]
  },
  {
   "cell_type": "code",
   "execution_count": 18,
   "id": "f2d8b118-6d25-4082-a2c6-5c04d0e63b7b",
   "metadata": {},
   "outputs": [
    {
     "name": "stdout",
     "output_type": "stream",
     "text": [
      "+--------------------+--------------------+----------+---------------+--------------------+--------------------+--------+-------------------+--------------------+\n",
      "|      transaction_id|             item_id|item_order|          store|         customer_id|            staff_id|quantity|             utc_dt|   last_processed_ts|\n",
      "+--------------------+--------------------+----------+---------------+--------------------+--------------------+--------+-------------------+--------------------+\n",
      "|c1c25f3771f2496ca...|c446411d441a4f288...|         1|         To Hit|7f3de301fbf4472e9...|56b20a9993c140fa9...|       2|2024-11-05T12:47:12|2024-12-15 21:11:...|\n",
      "|c1c25f3771f2496ca...|d817251d1b7e42609...|         2|         To Hit|7f3de301fbf4472e9...|56b20a9993c140fa9...|       1|2024-11-05T12:47:12|2024-12-15 21:11:...|\n",
      "|c1c25f3771f2496ca...|3381a129c1cc4500a...|         3|         To Hit|7f3de301fbf4472e9...|56b20a9993c140fa9...|       2|2024-11-05T12:47:12|2024-12-15 21:11:...|\n",
      "|c1c25f3771f2496ca...|d2bcd6de34c04c0b8...|         4|         To Hit|7f3de301fbf4472e9...|56b20a9993c140fa9...|       2|2024-11-05T12:47:12|2024-12-15 21:11:...|\n",
      "|c1c25f3771f2496ca...|0789bd727f4e4935b...|         5|         To Hit|7f3de301fbf4472e9...|56b20a9993c140fa9...|       2|2024-11-05T12:47:12|2024-12-15 21:11:...|\n",
      "|359b146e0e8049748...|4995fdd1a5be48ec8...|         1|      Play More|257fcb5d4a2c4a84a...|07a37b16bc0f47fa8...|       2|2024-11-06T22:58:56|2024-12-15 21:11:...|\n",
      "|359b146e0e8049748...|d817251d1b7e42609...|         2|      Play More|257fcb5d4a2c4a84a...|07a37b16bc0f47fa8...|       1|2024-11-06T22:58:56|2024-12-15 21:11:...|\n",
      "|0c9b0fd871ba4f2ba...|8388c8da60ff42218...|         1|Natural Partner|6a8660075d594886a...|b8e7f1fb56f846f6a...|       2|2024-11-07T03:28:22|2024-12-15 21:11:...|\n",
      "|0c9b0fd871ba4f2ba...|36ba84367a5b47399...|         2|Natural Partner|6a8660075d594886a...|b8e7f1fb56f846f6a...|       1|2024-11-07T03:28:22|2024-12-15 21:11:...|\n",
      "|0c9b0fd871ba4f2ba...|0789bd727f4e4935b...|         3|Natural Partner|6a8660075d594886a...|b8e7f1fb56f846f6a...|       1|2024-11-07T03:28:22|2024-12-15 21:11:...|\n",
      "|0c9b0fd871ba4f2ba...|7dbd19f5d4464774b...|         4|Natural Partner|6a8660075d594886a...|b8e7f1fb56f846f6a...|       2|2024-11-07T03:28:22|2024-12-15 21:11:...|\n",
      "|0c9b0fd871ba4f2ba...|d4dac63fec8a4b0cb...|         5|Natural Partner|6a8660075d594886a...|b8e7f1fb56f846f6a...|       2|2024-11-07T03:28:22|2024-12-15 21:11:...|\n",
      "|b755f5bfe0f24f609...|faf7a4c7e7904c368...|         1|     Same Color|85165d675da445059...|07a37b16bc0f47fa8...|       2|2024-11-05T00:45:13|2024-12-15 21:11:...|\n",
      "|b755f5bfe0f24f609...|36ba84367a5b47399...|         2|     Same Color|85165d675da445059...|07a37b16bc0f47fa8...|       1|2024-11-05T00:45:13|2024-12-15 21:11:...|\n",
      "|b755f5bfe0f24f609...|faf7a4c7e7904c368...|         3|     Same Color|85165d675da445059...|07a37b16bc0f47fa8...|       2|2024-11-05T00:45:13|2024-12-15 21:11:...|\n",
      "|b755f5bfe0f24f609...|620c118a18b14110b...|         4|     Same Color|85165d675da445059...|07a37b16bc0f47fa8...|       1|2024-11-05T00:45:13|2024-12-15 21:11:...|\n",
      "|b755f5bfe0f24f609...|0789bd727f4e4935b...|         5|     Same Color|85165d675da445059...|07a37b16bc0f47fa8...|       1|2024-11-05T00:45:13|2024-12-15 21:11:...|\n",
      "|4247f7404d4d4c1ba...|b697fef91688495b8...|         1| Support Single|8070f89c9d8847e59...|56b20a9993c140fa9...|       1|2024-11-02T20:38:01|2024-12-15 21:11:...|\n",
      "|4247f7404d4d4c1ba...|620c118a18b14110b...|         2| Support Single|8070f89c9d8847e59...|56b20a9993c140fa9...|       1|2024-11-02T20:38:01|2024-12-15 21:11:...|\n",
      "|4247f7404d4d4c1ba...|19488605d70643208...|         3| Support Single|8070f89c9d8847e59...|56b20a9993c140fa9...|       2|2024-11-02T20:38:01|2024-12-15 21:11:...|\n",
      "+--------------------+--------------------+----------+---------------+--------------------+--------------------+--------+-------------------+--------------------+\n",
      "only showing top 20 rows\n",
      "\n"
     ]
    }
   ],
   "source": [
    "%%sql\n",
    "SELECT * FROM transactions"
   ]
  },
  {
   "cell_type": "code",
   "execution_count": 33,
   "id": "e4ce1b9f-5330-4d6c-b404-5d2a357a6882",
   "metadata": {},
   "outputs": [
    {
     "name": "stdout",
     "output_type": "stream",
     "text": [
      "+--------------------+--------------------+--------+--------------------+---------+----------+------------------+---+-------------------+\n",
      "|      transaction_id|             item_id|quantity|        product_name| category|unit_price|     customer_name|age|     transaction_ts|\n",
      "+--------------------+--------------------+--------+--------------------+---------+----------+------------------+---+-------------------+\n",
      "|c1c25f3771f2496ca...|c446411d441a4f288...|       2|   Red Boxing Gloves|    Sport|       283|      Scott Walton| 39|2024-11-05T12:47:12|\n",
      "|c1c25f3771f2496ca...|d817251d1b7e42609...|       1|Practical Red Pla...|Furniture|       292|      Scott Walton| 39|2024-11-05T12:47:12|\n",
      "|c1c25f3771f2496ca...|3381a129c1cc4500a...|       2|Generic Red Cotto...|Furniture|       184|      Scott Walton| 39|2024-11-05T12:47:12|\n",
      "|c1c25f3771f2496ca...|d2bcd6de34c04c0b8...|       2|  Handmade Golf Club|    Sport|        14|      Scott Walton| 39|2024-11-05T12:47:12|\n",
      "|c1c25f3771f2496ca...|0789bd727f4e4935b...|       2|Handcrafted Green...|      Toy|       472|      Scott Walton| 39|2024-11-05T12:47:12|\n",
      "|359b146e0e8049748...|4995fdd1a5be48ec8...|       2|Small Red Soft Ho...|    Sport|       199|    Terry Reynolds| 27|2024-11-06T22:58:56|\n",
      "|359b146e0e8049748...|d817251d1b7e42609...|       1|Practical Red Pla...|Furniture|       292|    Terry Reynolds| 27|2024-11-06T22:58:56|\n",
      "|0c9b0fd871ba4f2ba...|8388c8da60ff42218...|       2|Ergonomic Dining ...|Furniture|        82|Kristin Mclaughlin| 32|2024-11-07T03:28:22|\n",
      "|0c9b0fd871ba4f2ba...|36ba84367a5b47399...|       1|Intelligent Black...|      Toy|       103|Kristin Mclaughlin| 32|2024-11-07T03:28:22|\n",
      "|0c9b0fd871ba4f2ba...|0789bd727f4e4935b...|       1|Handcrafted Green...|      Toy|       472|Kristin Mclaughlin| 32|2024-11-07T03:28:22|\n",
      "|0c9b0fd871ba4f2ba...|7dbd19f5d4464774b...|       2|Yellow Tennis Racket|    Sport|       217|Kristin Mclaughlin| 32|2024-11-07T03:28:22|\n",
      "|0c9b0fd871ba4f2ba...|d4dac63fec8a4b0cb...|       2|       Cotton Puzzle|      Toy|       195|Kristin Mclaughlin| 32|2024-11-07T03:28:22|\n",
      "|b755f5bfe0f24f609...|faf7a4c7e7904c368...|       2| Fantastic Bookshelf|Furniture|        40|        Eric Scott| 40|2024-11-05T00:45:13|\n",
      "|b755f5bfe0f24f609...|36ba84367a5b47399...|       1|Intelligent Black...|      Toy|       103|        Eric Scott| 40|2024-11-05T00:45:13|\n",
      "|b755f5bfe0f24f609...|faf7a4c7e7904c368...|       2| Fantastic Bookshelf|Furniture|        40|        Eric Scott| 40|2024-11-05T00:45:13|\n",
      "|b755f5bfe0f24f609...|620c118a18b14110b...|       1|     Cotton Play-Doh|      Toy|        73|        Eric Scott| 40|2024-11-05T00:45:13|\n",
      "|b755f5bfe0f24f609...|0789bd727f4e4935b...|       1|Handcrafted Green...|      Toy|       472|        Eric Scott| 40|2024-11-05T00:45:13|\n",
      "|4247f7404d4d4c1ba...|b697fef91688495b8...|       1|     Sleek Toy Train|      Toy|       387|     Sandra Foster| 36|2024-11-02T20:38:01|\n",
      "|4247f7404d4d4c1ba...|620c118a18b14110b...|       1|     Cotton Play-Doh|      Toy|        73|     Sandra Foster| 36|2024-11-02T20:38:01|\n",
      "|4247f7404d4d4c1ba...|19488605d70643208...|       2|  Green Dining Table|Furniture|       393|     Sandra Foster| 36|2024-11-02T20:38:01|\n",
      "+--------------------+--------------------+--------+--------------------+---------+----------+------------------+---+-------------------+\n",
      "only showing top 20 rows\n",
      "\n"
     ]
    }
   ],
   "source": [
    "%%sql\n",
    "\n",
    "SELECT\n",
    "    t.transaction_id,\n",
    "    t.item_id,\n",
    "    t.quantity,\n",
    "    p.product_name,\n",
    "    p.category,\n",
    "    p.unit_price,\n",
    "    c.first_name || \" \" || c.last_name as customer_name,\n",
    "    year(current_date()) - year(c.yob) as age,\n",
    "    \n",
    "    t.utc_dt as transaction_ts\n",
    "FROM transactions t\n",
    "LEFT JOIN customers c\n",
    "    ON t.customer_id = c.customer_id\n",
    "LEFT JOIN products p\n",
    "    ON t.item_id = p.product_id"
   ]
  }
 ],
 "metadata": {
  "kernelspec": {
   "display_name": "Python 3 (ipykernel)",
   "language": "python",
   "name": "python3"
  },
  "language_info": {
   "codemirror_mode": {
    "name": "ipython",
    "version": 3
   },
   "file_extension": ".py",
   "mimetype": "text/x-python",
   "name": "python",
   "nbconvert_exporter": "python",
   "pygments_lexer": "ipython3",
   "version": "3.12.2"
  }
 },
 "nbformat": 4,
 "nbformat_minor": 5
}
